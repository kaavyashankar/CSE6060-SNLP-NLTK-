{
 "cells": [
  {
   "cell_type": "markdown",
   "metadata": {},
   "source": [
    "# 4/06/2020"
   ]
  },
  {
   "cell_type": "code",
   "execution_count": 1,
   "metadata": {},
   "outputs": [],
   "source": [
    "# 1) Corpus\n",
    "# 2) Tokenise\n",
    "# 3) Pos_Tagging\n",
    "# 4) Identifying Stems"
   ]
  },
  {
   "cell_type": "code",
   "execution_count": 2,
   "metadata": {},
   "outputs": [],
   "source": [
    "# importing inaugural copus\n",
    "import nltk\n",
    "from nltk.corpus import genesis"
   ]
  },
  {
   "cell_type": "code",
   "execution_count": 3,
   "metadata": {},
   "outputs": [
    {
     "data": {
      "text/plain": [
       "['english-kjv.txt',\n",
       " 'english-web.txt',\n",
       " 'finnish.txt',\n",
       " 'french.txt',\n",
       " 'german.txt',\n",
       " 'lolcat.txt',\n",
       " 'portuguese.txt',\n",
       " 'swedish.txt']"
      ]
     },
     "execution_count": 3,
     "metadata": {},
     "output_type": "execute_result"
    }
   ],
   "source": [
    "# Categories\n",
    "genesis.fileids()"
   ]
  },
  {
   "cell_type": "code",
   "execution_count": 4,
   "metadata": {},
   "outputs": [
    {
     "data": {
      "text/plain": [
       "8"
      ]
     },
     "execution_count": 4,
     "metadata": {},
     "output_type": "execute_result"
    }
   ],
   "source": [
    "#length\n",
    "len(genesis.fileids())"
   ]
  },
  {
   "cell_type": "code",
   "execution_count": 5,
   "metadata": {},
   "outputs": [
    {
     "data": {
      "text/plain": [
       "['In',\n",
       " 'the',\n",
       " 'beginning',\n",
       " 'God',\n",
       " 'created',\n",
       " 'the',\n",
       " 'heavens',\n",
       " 'and',\n",
       " 'the',\n",
       " 'earth',\n",
       " '.',\n",
       " 'Now',\n",
       " 'the',\n",
       " 'earth',\n",
       " 'was',\n",
       " 'formless',\n",
       " 'and',\n",
       " 'empty',\n",
       " '.',\n",
       " 'Darkness',\n",
       " 'was',\n",
       " 'on',\n",
       " 'the',\n",
       " 'surface',\n",
       " 'of',\n",
       " 'the',\n",
       " 'deep',\n",
       " '.',\n",
       " 'God',\n",
       " \"'\",\n",
       " 's',\n",
       " 'Spirit',\n",
       " 'was',\n",
       " 'hovering',\n",
       " 'over',\n",
       " 'the',\n",
       " 'surface',\n",
       " 'of',\n",
       " 'the',\n",
       " 'waters',\n",
       " '.',\n",
       " 'God',\n",
       " 'said',\n",
       " ',',\n",
       " '\"',\n",
       " 'Let',\n",
       " 'there',\n",
       " 'be',\n",
       " 'light',\n",
       " ',\"',\n",
       " 'and',\n",
       " 'there',\n",
       " 'was',\n",
       " 'light',\n",
       " '.',\n",
       " 'God',\n",
       " 'saw',\n",
       " 'the',\n",
       " 'light',\n",
       " ',',\n",
       " 'and',\n",
       " 'saw',\n",
       " 'that',\n",
       " 'it',\n",
       " 'was',\n",
       " 'good',\n",
       " '.',\n",
       " 'God',\n",
       " 'divided',\n",
       " 'the',\n",
       " 'light',\n",
       " 'from',\n",
       " 'the',\n",
       " 'darkness',\n",
       " '.',\n",
       " 'God',\n",
       " 'called',\n",
       " 'the',\n",
       " 'light',\n",
       " 'Day',\n",
       " ',',\n",
       " 'and',\n",
       " 'the',\n",
       " 'darkness',\n",
       " 'he',\n",
       " 'called',\n",
       " 'Night',\n",
       " '.',\n",
       " 'There',\n",
       " 'was',\n",
       " 'evening',\n",
       " 'and',\n",
       " 'there',\n",
       " 'was',\n",
       " 'morning',\n",
       " ',',\n",
       " 'one',\n",
       " 'day',\n",
       " '.',\n",
       " 'God',\n",
       " 'said',\n",
       " ',',\n",
       " '\"',\n",
       " 'Let',\n",
       " 'there',\n",
       " 'be',\n",
       " 'an',\n",
       " 'expanse',\n",
       " 'in',\n",
       " 'the',\n",
       " 'middle',\n",
       " 'of',\n",
       " 'the',\n",
       " 'waters',\n",
       " ',',\n",
       " 'and',\n",
       " 'let',\n",
       " 'it',\n",
       " 'divide',\n",
       " 'the',\n",
       " 'waters',\n",
       " 'from',\n",
       " 'the',\n",
       " 'waters',\n",
       " '.\"',\n",
       " 'God',\n",
       " 'made',\n",
       " 'the',\n",
       " 'expanse',\n",
       " ',',\n",
       " 'and',\n",
       " 'divided',\n",
       " 'the',\n",
       " 'waters',\n",
       " 'which',\n",
       " 'were',\n",
       " 'under',\n",
       " 'the',\n",
       " 'expanse',\n",
       " 'from',\n",
       " 'the',\n",
       " 'waters',\n",
       " 'which',\n",
       " 'were',\n",
       " 'above',\n",
       " 'the',\n",
       " 'expanse',\n",
       " ';',\n",
       " 'and',\n",
       " 'it',\n",
       " 'was',\n",
       " 'so',\n",
       " '.',\n",
       " 'God',\n",
       " 'called',\n",
       " 'the',\n",
       " 'expanse',\n",
       " 'sky',\n",
       " '.',\n",
       " 'There',\n",
       " 'was',\n",
       " 'evening',\n",
       " 'and',\n",
       " 'there',\n",
       " 'was',\n",
       " 'morning',\n",
       " ',',\n",
       " 'a',\n",
       " 'second',\n",
       " 'day',\n",
       " '.',\n",
       " 'God',\n",
       " 'said',\n",
       " ',',\n",
       " '\"',\n",
       " 'Let',\n",
       " 'the',\n",
       " 'waters',\n",
       " 'under',\n",
       " 'the',\n",
       " 'sky',\n",
       " 'be',\n",
       " 'gathered',\n",
       " 'together',\n",
       " 'to',\n",
       " 'one',\n",
       " 'place',\n",
       " ',',\n",
       " 'and',\n",
       " 'let',\n",
       " 'the',\n",
       " 'dry',\n",
       " 'land',\n",
       " 'appear',\n",
       " ';\"',\n",
       " 'and',\n",
       " 'it',\n",
       " 'was',\n",
       " 'so',\n",
       " '.']"
      ]
     },
     "execution_count": 5,
     "metadata": {},
     "output_type": "execute_result"
    }
   ],
   "source": [
    "texts=\"\"\n",
    "texts=genesis.words(fileids='english-web.txt')[:200]\n",
    "texts"
   ]
  },
  {
   "cell_type": "code",
   "execution_count": 6,
   "metadata": {},
   "outputs": [],
   "source": [
    "#tokenizing the a long paragrah to sentences and words from english-web.txt\n",
    "from nltk.tokenize import sent_tokenize"
   ]
  },
  {
   "cell_type": "code",
   "execution_count": 7,
   "metadata": {},
   "outputs": [
    {
     "name": "stdout",
     "output_type": "stream",
     "text": [
      "['In the beginning God created the heavens and the earth .', 'Now the earth was formless and empty .', 'Darkness was on the surface of the deep .', \"God ' s Spirit was hovering over the surface of the waters .\", 'God said , \" Let there be light ,\" and there was light .', 'God saw the light , and saw that it was good .', 'God divided the light from the darkness .', 'God called the light Day , and the darkness he called Night .', 'There was evening and there was morning , one day .', 'God said , \" Let there be an expanse in the middle of the waters , and let it divide the waters from the waters .\"', 'God made the expanse , and divided the waters which were under the expanse from the waters which were above the expanse ; and it was so .', 'God called the expanse sky .', 'There was evening and there was morning , a second day .', 'God said , \" Let the waters under the sky be gathered together to one place , and let the dry land appear ;\" and it was so .']\n"
     ]
    }
   ],
   "source": [
    "#converting list to single string str1\n",
    "str1=\" \".join(texts)\n",
    "tokenized_text=sent_tokenize(str1)\n",
    "print(tokenized_text)"
   ]
  },
  {
   "cell_type": "code",
   "execution_count": 8,
   "metadata": {},
   "outputs": [
    {
     "name": "stdout",
     "output_type": "stream",
     "text": [
      "[('I', 'PRP'), ('n', 'VBP'), (' ', 'JJ'), ('t', 'NN'), ('h', 'NN'), ('e', 'NN'), (' ', 'NNP'), ('b', 'NN'), ('e', 'NN'), ('g', 'NN'), ('i', 'NN'), ('n', 'VBP'), ('n', 'NN'), ('i', 'NN'), ('n', 'VBP'), ('g', 'NN'), (' ', 'NNP'), ('G', 'NNP'), ('o', 'MD'), ('d', 'VB'), (' ', 'NNP'), ('c', 'JJ'), ('r', 'NN'), ('e', 'VBZ'), ('a', 'DT'), ('t', 'NN'), ('e', 'NN'), ('d', 'NN'), (' ', 'NNP'), ('t', 'NN'), ('h', 'NN'), ('e', 'NN'), (' ', 'NNP'), ('h', 'NN'), ('e', 'VBZ'), ('a', 'DT'), ('v', 'NN'), ('e', 'NN'), ('n', 'JJ'), ('s', 'NN'), (' ', 'VBD'), ('a', 'DT'), ('n', 'JJ'), ('d', 'NN'), (' ', 'NNP'), ('t', 'NN'), ('h', 'NN'), ('e', 'NN'), (' ', 'NNP'), ('e', 'VBZ'), ('a', 'DT'), ('r', 'NN'), ('t', 'NN'), ('h', 'NN'), (' ', 'NNP'), ('.', '.'), (' ', 'VB'), ('N', 'NNP'), ('o', 'PRP'), ('w', 'VBP'), (' ', 'JJ'), ('t', 'NN'), ('h', 'NN'), ('e', 'NN'), (' ', 'NNP'), ('e', 'VBZ'), ('a', 'DT'), ('r', 'NN'), ('t', 'NN'), ('h', 'NN'), (' ', 'NNP'), ('w', 'VBZ'), ('a', 'DT'), ('s', 'JJ'), (' ', 'NN'), ('f', 'NN'), ('o', 'NN'), ('r', 'NN'), ('m', 'NN'), ('l', 'NN'), ('e', 'NN'), ('s', 'NN'), ('s', 'NN'), (' ', 'VBZ'), ('a', 'DT'), ('n', 'JJ'), ('d', 'NN'), (' ', 'NNP'), ('e', 'VBZ'), ('m', 'FW'), ('p', 'NN'), ('t', 'NN'), ('y', 'NN'), (' ', 'NNP'), ('.', '.'), (' ', 'NNP'), ('D', 'NNP'), ('a', 'DT'), ('r', 'NN'), ('k', 'NN'), ('n', 'JJ'), ('e', 'NN'), ('s', 'NN'), ('s', 'NN'), (' ', 'NNP'), ('w', 'VBZ'), ('a', 'DT'), ('s', 'JJ'), (' ', 'NN'), ('o', 'NN'), ('n', 'JJ'), (' ', 'NNP'), ('t', 'NN'), ('h', 'NN'), ('e', 'NN'), (' ', 'NNP'), ('s', 'NN'), ('u', 'JJ'), ('r', 'NN'), ('f', 'VBD'), ('a', 'DT'), ('c', 'JJ'), ('e', 'NN'), (' ', 'NNP'), ('o', 'VBZ'), ('f', 'JJ'), (' ', 'NNP'), ('t', 'NN'), ('h', 'NN'), ('e', 'NN'), (' ', 'NNP'), ('d', 'NN'), ('e', 'NN'), ('e', 'NN'), ('p', 'NN'), (' ', 'NNP'), ('.', '.'), (' ', 'VB'), ('G', 'NNP'), ('o', 'PRP'), ('d', 'VBP'), (' ', 'JJ'), (\"'\", 'POS'), (' ', 'NN'), ('s', 'NN'), (' ', 'NNP'), ('S', 'NNP'), ('p', 'NN'), ('i', 'NN'), ('r', 'VBP'), ('i', 'NN'), ('t', 'VBP'), (' ', 'NNP'), ('w', 'VBP'), ('a', 'DT'), ('s', 'NN'), (' ', 'NN'), ('h', 'NN'), ('o', 'JJ'), ('v', 'NN'), ('e', 'NN'), ('r', 'NN'), ('i', 'NN'), ('n', 'VBP'), ('g', 'NN'), (' ', 'NNP'), ('o', 'VBZ'), ('v', 'FW'), ('e', 'FW'), ('r', 'NN'), (' ', 'NNP'), ('t', 'NN'), ('h', 'NN'), ('e', 'NN'), (' ', 'NNP'), ('s', 'NN'), ('u', 'JJ'), ('r', 'NN'), ('f', 'VBD'), ('a', 'DT'), ('c', 'JJ'), ('e', 'NN'), (' ', 'NNP'), ('o', 'VBZ'), ('f', 'JJ'), (' ', 'NNP'), ('t', 'NN'), ('h', 'NN'), ('e', 'NN'), (' ', 'NNP'), ('w', 'VBZ'), ('a', 'DT'), ('t', 'NN'), ('e', 'NN'), ('r', 'NN'), ('s', 'NN'), (' ', 'NNP'), ('.', '.'), (' ', 'VB'), ('G', 'NNP'), ('o', 'PRP'), ('d', 'VBP'), (' ', 'JJ'), ('s', 'VBP'), ('a', 'DT'), ('i', 'NN'), ('d', 'NN'), (' ', 'NNP'), (',', ','), (' ', 'NNP'), ('\"', 'NNP'), (' ', 'NNP'), ('L', 'NNP'), ('e', 'NN'), ('t', 'NN'), (' ', 'NNP'), ('t', 'NN'), ('h', 'NN'), ('e', 'NN'), ('r', 'NN'), ('e', 'NN'), (' ', 'NNP'), ('b', 'NN'), ('e', 'NN'), (' ', 'NNP'), ('l', 'NN'), ('i', 'NN'), ('g', 'VBP'), ('h', 'NN'), ('t', 'NN'), (' ', 'NNP'), (',', ','), ('\"', 'NNP'), (' ', 'VBZ'), ('a', 'DT'), ('n', 'JJ'), ('d', 'NN'), (' ', 'NNP'), ('t', 'NN'), ('h', 'NN'), ('e', 'NN'), ('r', 'NN'), ('e', 'NN'), (' ', 'NNP'), ('w', 'VBZ'), ('a', 'DT'), ('s', 'JJ'), (' ', 'NN'), ('l', 'NN'), ('i', 'NN'), ('g', 'VBP'), ('h', 'NN'), ('t', 'NN'), (' ', 'NNP'), ('.', '.'), (' ', 'VB'), ('G', 'NNP'), ('o', 'PRP'), ('d', 'VBP'), (' ', 'JJ'), ('s', 'NN'), ('a', 'DT'), ('w', 'NN'), (' ', 'NNP'), ('t', 'NN'), ('h', 'NN'), ('e', 'NN'), (' ', 'NNP'), ('l', 'NN'), ('i', 'NN'), ('g', 'VBP'), ('h', 'NN'), ('t', 'NN'), (' ', 'NNP'), (',', ','), (' ', 'VBZ'), ('a', 'DT'), ('n', 'JJ'), ('d', 'NN'), (' ', 'NNP'), ('s', 'VBZ'), ('a', 'DT'), ('w', 'JJ'), (' ', 'NN'), ('t', 'NN'), ('h', 'VBD'), ('a', 'DT'), ('t', 'NN'), (' ', 'NN'), ('i', 'NN'), ('t', 'VBP'), (' ', 'NNP'), ('w', 'VBP'), ('a', 'DT'), ('s', 'NN'), (' ', 'NNP'), ('g', 'NN'), ('o', 'NN'), ('o', 'NN'), ('d', 'NN'), (' ', 'NNP'), ('.', '.'), (' ', 'VB'), ('G', 'NNP'), ('o', 'PRP'), ('d', 'VBP'), (' ', 'JJ'), ('d', 'NN'), ('i', 'NN'), ('v', 'VBP'), ('i', 'NN'), ('d', 'VBP'), ('e', 'NN'), ('d', 'NN'), (' ', 'NNP'), ('t', 'NN'), ('h', 'NN'), ('e', 'NN'), (' ', 'NNP'), ('l', 'NN'), ('i', 'NN'), ('g', 'VBP'), ('h', 'NN'), ('t', 'NN'), (' ', 'NNP'), ('f', 'NN'), ('r', 'NN'), ('o', 'IN'), ('m', 'NN'), (' ', 'NNP'), ('t', 'NN'), ('h', 'NN'), ('e', 'NN'), (' ', 'NNP'), ('d', 'VBZ'), ('a', 'DT'), ('r', 'NN'), ('k', 'NN'), ('n', 'JJ'), ('e', 'NN'), ('s', 'NN'), ('s', 'NN'), (' ', 'NNP'), ('.', '.'), (' ', 'VB'), ('G', 'NNP'), ('o', 'PRP'), ('d', 'VBP'), (' ', 'JJ'), ('c', 'VBP'), ('a', 'DT'), ('l', 'NN'), ('l', 'NN'), ('e', 'NN'), ('d', 'NN'), (' ', 'NNP'), ('t', 'NN'), ('h', 'NN'), ('e', 'NN'), (' ', 'NNP'), ('l', 'NN'), ('i', 'NN'), ('g', 'VBP'), ('h', 'NN'), ('t', 'NN'), (' ', 'NNP'), ('D', 'NNP'), ('a', 'DT'), ('y', 'NN'), (' ', 'NN'), (',', ','), (' ', 'VB'), ('a', 'DT'), ('n', 'JJ'), ('d', 'NN'), (' ', 'NNP'), ('t', 'NN'), ('h', 'NN'), ('e', 'NN'), (' ', 'NNP'), ('d', 'VBZ'), ('a', 'DT'), ('r', 'NN'), ('k', 'NN'), ('n', 'JJ'), ('e', 'NN'), ('s', 'NN'), ('s', 'NN'), (' ', 'NNP'), ('h', 'NN'), ('e', 'NN'), (' ', 'NNP'), ('c', 'VBZ'), ('a', 'DT'), ('l', 'NN'), ('l', 'NN'), ('e', 'NN'), ('d', 'NN'), (' ', 'NNP'), ('N', 'NNP'), ('i', 'NN'), ('g', 'VBP'), ('h', 'NN'), ('t', 'NN'), (' ', 'NNP'), ('.', '.'), (' ', 'VB'), ('T', 'NNP'), ('h', 'NN'), ('e', 'NN'), ('r', 'NN'), ('e', 'NN'), (' ', 'NNP'), ('w', 'VBZ'), ('a', 'DT'), ('s', 'JJ'), (' ', 'NN'), ('e', 'NN'), ('v', 'NN'), ('e', 'NN'), ('n', 'IN'), ('i', 'JJ'), ('n', 'VBP'), ('g', 'JJ'), (' ', 'FW'), ('a', 'DT'), ('n', 'JJ'), ('d', 'NN'), (' ', 'NNP'), ('t', 'NN'), ('h', 'NN'), ('e', 'NN'), ('r', 'NN'), ('e', 'NN'), (' ', 'NNP'), ('w', 'VBZ'), ('a', 'DT'), ('s', 'JJ'), (' ', 'NNP'), ('m', 'NN'), ('o', 'NN'), ('r', 'NN'), ('n', 'NN'), ('i', 'NN'), ('n', 'VBP'), ('g', 'NN'), (' ', 'NN'), (',', ','), (' ', 'NNP'), ('o', 'MD'), ('n', 'VB'), ('e', 'NN'), (' ', 'NNP'), ('d', 'VBZ'), ('a', 'DT'), ('y', 'JJ'), (' ', 'NN'), ('.', '.'), (' ', 'CC'), ('G', 'NNP'), ('o', 'VBP'), ('d', 'NN'), (' ', 'NNP'), ('s', 'VBZ'), ('a', 'DT'), ('i', 'JJ'), ('d', 'NN'), (' ', 'NN'), (',', ','), (' ', 'NNP'), ('\"', 'NNP'), (' ', 'NNP'), ('L', 'NNP'), ('e', 'NN'), ('t', 'NN'), (' ', 'NNP'), ('t', 'NN'), ('h', 'NN'), ('e', 'NN'), ('r', 'NN'), ('e', 'NN'), (' ', 'NNP'), ('b', 'NN'), ('e', 'NN'), (' ', 'VBZ'), ('a', 'DT'), ('n', 'JJ'), (' ', 'NN'), ('e', 'NN'), ('x', 'NNP'), ('p', 'VBZ'), ('a', 'DT'), ('n', 'JJ'), ('s', 'NN'), ('e', 'NN'), (' ', 'NN'), ('i', 'NN'), ('n', 'VBP'), (' ', 'JJ'), ('t', 'NN'), ('h', 'NN'), ('e', 'NN'), (' ', 'NNP'), ('m', 'NN'), ('i', 'NN'), ('d', 'VBP'), ('d', 'NN'), ('l', 'NN'), ('e', 'NN'), (' ', 'NNP'), ('o', 'VBZ'), ('f', 'JJ'), (' ', 'NNP'), ('t', 'NN'), ('h', 'NN'), ('e', 'NN'), (' ', 'NNP'), ('w', 'VBZ'), ('a', 'DT'), ('t', 'NN'), ('e', 'NN'), ('r', 'NN'), ('s', 'NN'), (' ', 'NNP'), (',', ','), (' ', 'VBZ'), ('a', 'DT'), ('n', 'JJ'), ('d', 'NN'), (' ', 'NNP'), ('l', 'NN'), ('e', 'NN'), ('t', 'IN'), (' ', 'NN'), ('i', 'NN'), ('t', 'VBP'), (' ', 'NNP'), ('d', 'NN'), ('i', 'NN'), ('v', 'VBP'), ('i', 'NN'), ('d', 'VBP'), ('e', 'NN'), (' ', 'NNP'), ('t', 'NN'), ('h', 'NN'), ('e', 'NN'), (' ', 'NNP'), ('w', 'VBZ'), ('a', 'DT'), ('t', 'NN'), ('e', 'NN'), ('r', 'NN'), ('s', 'NN'), (' ', 'NNP'), ('f', 'NN'), ('r', 'NN'), ('o', 'IN'), ('m', 'NN'), (' ', 'NNP'), ('t', 'NN'), ('h', 'NN'), ('e', 'NN'), (' ', 'NNP'), ('w', 'VBZ'), ('a', 'DT'), ('t', 'NN'), ('e', 'NN'), ('r', 'NN'), ('s', 'NN'), (' ', 'NNP'), ('.', '.'), ('\"', 'VB'), (' ', 'JJ'), ('G', 'NNP'), ('o', 'NN'), ('d', 'NN'), (' ', 'NNP'), ('m', 'VBZ'), ('a', 'DT'), ('d', 'NN'), ('e', 'NN'), (' ', 'NNP'), ('t', 'NN'), ('h', 'NN'), ('e', 'NN'), (' ', 'NNP'), ('e', 'NN'), ('x', 'NNP'), ('p', 'VBZ'), ('a', 'DT'), ('n', 'JJ'), ('s', 'NN'), ('e', 'NN'), (' ', 'NNP'), (',', ','), (' ', 'VBZ'), ('a', 'DT'), ('n', 'JJ'), ('d', 'NN'), (' ', 'NNP'), ('d', 'NN'), ('i', 'NN'), ('v', 'VBP'), ('i', 'NN'), ('d', 'VBP'), ('e', 'NN'), ('d', 'NN'), (' ', 'NNP'), ('t', 'NN'), ('h', 'NN'), ('e', 'NN'), (' ', 'NNP'), ('w', 'VBZ'), ('a', 'DT'), ('t', 'NN'), ('e', 'NN'), ('r', 'NN'), ('s', 'NN'), (' ', 'NNP'), ('w', 'NN'), ('h', 'NN'), ('i', 'JJ'), ('c', 'VBP'), ('h', 'JJ'), (' ', 'NNP'), ('w', 'NN'), ('e', 'NN'), ('r', 'NN'), ('e', 'NN'), (' ', 'NNP'), ('u', 'JJ'), ('n', 'RB'), ('d', 'VBP'), ('e', 'JJ'), ('r', 'NN'), (' ', 'NNP'), ('t', 'NN'), ('h', 'NN'), ('e', 'NN'), (' ', 'NNP'), ('e', 'NN'), ('x', 'NNP'), ('p', 'VBZ'), ('a', 'DT'), ('n', 'JJ'), ('s', 'NN'), ('e', 'NN'), (' ', 'NNP'), ('f', 'NN'), ('r', 'NN'), ('o', 'IN'), ('m', 'NN'), (' ', 'NNP'), ('t', 'NN'), ('h', 'NN'), ('e', 'NN'), (' ', 'NNP'), ('w', 'VBZ'), ('a', 'DT'), ('t', 'NN'), ('e', 'NN'), ('r', 'NN'), ('s', 'NN'), (' ', 'NNP'), ('w', 'NN'), ('h', 'NN'), ('i', 'JJ'), ('c', 'VBP'), ('h', 'JJ'), (' ', 'NNP'), ('w', 'NN'), ('e', 'NN'), ('r', 'NN'), ('e', 'NN'), (' ', 'VBZ'), ('a', 'DT'), ('b', 'NN'), ('o', 'NN'), ('v', 'NN'), ('e', 'NN'), (' ', 'NNP'), ('t', 'NN'), ('h', 'NN'), ('e', 'NN'), (' ', 'NNP'), ('e', 'NN'), ('x', 'NNP'), ('p', 'VBZ'), ('a', 'DT'), ('n', 'JJ'), ('s', 'NN'), ('e', 'NN'), (' ', 'NNP'), (';', ':'), (' ', 'VBZ'), ('a', 'DT'), ('n', 'JJ'), ('d', 'NN'), (' ', 'NN'), ('i', 'NN'), ('t', 'VBP'), (' ', 'NNP'), ('w', 'VBP'), ('a', 'DT'), ('s', 'NN'), (' ', 'NNP'), ('s', 'NN'), ('o', 'NN'), (' ', 'NNP'), ('.', '.'), (' ', 'VB'), ('G', 'NNP'), ('o', 'PRP'), ('d', 'VBP'), (' ', 'JJ'), ('c', 'VBP'), ('a', 'DT'), ('l', 'NN'), ('l', 'NN'), ('e', 'NN'), ('d', 'NN'), (' ', 'NNP'), ('t', 'NN'), ('h', 'NN'), ('e', 'NN'), (' ', 'NNP'), ('e', 'NN'), ('x', 'NNP'), ('p', 'VBZ'), ('a', 'DT'), ('n', 'JJ'), ('s', 'NN'), ('e', 'NN'), (' ', 'NNP'), ('s', 'NN'), ('k', 'NN'), ('y', 'NNP'), (' ', 'NNP'), ('.', '.'), (' ', 'VB'), ('T', 'NNP'), ('h', 'NN'), ('e', 'NN'), ('r', 'NN'), ('e', 'NN'), (' ', 'NNP'), ('w', 'VBZ'), ('a', 'DT'), ('s', 'JJ'), (' ', 'NN'), ('e', 'NN'), ('v', 'NN'), ('e', 'NN'), ('n', 'IN'), ('i', 'JJ'), ('n', 'VBP'), ('g', 'JJ'), (' ', 'FW'), ('a', 'DT'), ('n', 'JJ'), ('d', 'NN'), (' ', 'NNP'), ('t', 'NN'), ('h', 'NN'), ('e', 'NN'), ('r', 'NN'), ('e', 'NN'), (' ', 'NNP'), ('w', 'VBZ'), ('a', 'DT'), ('s', 'JJ'), (' ', 'NNP'), ('m', 'NN'), ('o', 'NN'), ('r', 'NN'), ('n', 'NN'), ('i', 'NN'), ('n', 'VBP'), ('g', 'NN'), (' ', 'NN'), (',', ','), (' ', 'VB'), ('a', 'DT'), (' ', 'JJ'), ('s', 'NN'), ('e', 'NN'), ('c', 'VBP'), ('o', 'JJ'), ('n', 'JJ'), ('d', 'NN'), (' ', 'NNP'), ('d', 'VBZ'), ('a', 'DT'), ('y', 'JJ'), (' ', 'NN'), ('.', '.'), (' ', 'CC'), ('G', 'NNP'), ('o', 'VBP'), ('d', 'NN'), (' ', 'NNP'), ('s', 'VBZ'), ('a', 'DT'), ('i', 'JJ'), ('d', 'NN'), (' ', 'NN'), (',', ','), (' ', 'NNP'), ('\"', 'NNP'), (' ', 'NNP'), ('L', 'NNP'), ('e', 'NN'), ('t', 'NN'), (' ', 'NNP'), ('t', 'NN'), ('h', 'NN'), ('e', 'NN'), (' ', 'NNP'), ('w', 'VBZ'), ('a', 'DT'), ('t', 'NN'), ('e', 'NN'), ('r', 'NN'), ('s', 'NN'), (' ', 'NNP'), ('u', 'JJ'), ('n', 'RB'), ('d', 'VBP'), ('e', 'JJ'), ('r', 'NN'), (' ', 'NNP'), ('t', 'NN'), ('h', 'NN'), ('e', 'NN'), (' ', 'NNP'), ('s', 'NN'), ('k', 'NN'), ('y', 'NNP'), (' ', 'NNP'), ('b', 'NN'), ('e', 'NN'), (' ', 'NNP'), ('g', 'VBZ'), ('a', 'DT'), ('t', 'NN'), ('h', 'NN'), ('e', 'NN'), ('r', 'NN'), ('e', 'NN'), ('d', 'NN'), (' ', 'NNP'), ('t', 'NN'), ('o', 'NN'), ('g', 'NN'), ('e', 'NN'), ('t', 'NN'), ('h', 'NN'), ('e', 'NN'), ('r', 'NN'), (' ', 'NNP'), ('t', 'NN'), ('o', 'NN'), (' ', 'NNP'), ('o', 'VBZ'), ('n', 'JJ'), ('e', 'NN'), (' ', 'NNP'), ('p', 'NN'), ('l', 'NN'), ('a', 'DT'), ('c', 'NN'), ('e', 'NN'), (' ', 'NNP'), (',', ','), (' ', 'VBZ'), ('a', 'DT'), ('n', 'JJ'), ('d', 'NN'), (' ', 'NNP'), ('l', 'NN'), ('e', 'NN'), ('t', 'NN'), (' ', 'NNP'), ('t', 'NN'), ('h', 'NN'), ('e', 'NN'), (' ', 'NNP'), ('d', 'NN'), ('r', 'NN'), ('y', 'NN'), (' ', 'NNP'), ('l', 'VBZ'), ('a', 'DT'), ('n', 'JJ'), ('d', 'NN'), (' ', 'VBD'), ('a', 'DT'), ('p', 'NN'), ('p', 'NN'), ('e', 'VBZ'), ('a', 'DT'), ('r', 'NN'), (' ', 'NN'), (';', ':'), ('\"', 'NNP'), (' ', 'VBZ'), ('a', 'DT'), ('n', 'JJ'), ('d', 'NN'), (' ', 'NN'), ('i', 'NN'), ('t', 'VBP'), (' ', 'NNP'), ('w', 'VBP'), ('a', 'DT'), ('s', 'NN'), (' ', 'NNP'), ('s', 'NN'), ('o', 'NN'), (' ', 'NN'), ('.', '.')]\n"
     ]
    }
   ],
   "source": [
    "#parts of speech tagging\n",
    "tagged = nltk.pos_tag(str1)\n",
    "print(tagged)"
   ]
  },
  {
   "cell_type": "code",
   "execution_count": 9,
   "metadata": {},
   "outputs": [],
   "source": [
    "#using Lancaster stemmer "
   ]
  },
  {
   "cell_type": "code",
   "execution_count": 10,
   "metadata": {},
   "outputs": [
    {
     "name": "stdout",
     "output_type": "stream",
     "text": [
      "Orignal Sentence: In the beginning God created the heavens and the earth . Now the earth was formless and empty . Darkness was on the surface of the deep . God ' s Spirit was hovering over the surface of the waters . God said , \" Let there be light ,\" and there was light . God saw the light , and saw that it was good . God divided the light from the darkness . God called the light Day , and the darkness he called Night . There was evening and there was morning , one day . God said , \" Let there be an expanse in the middle of the waters , and let it divide the waters from the waters .\" God made the expanse , and divided the waters which were under the expanse from the waters which were above the expanse ; and it was so . God called the expanse sky . There was evening and there was morning , a second day . God said , \" Let the waters under the sky be gathered together to one place , and let the dry land appear ;\" and it was so .\n",
      "\n",
      "\n",
      "Stemmed Sentence:\n",
      "in the begin god cre the heav and the ear . now the ear was formless and empty . dark was on the surfac of the deep . god ' s spirit was hov ov the surfac of the wat . god said , \" let ther be light ,\" and ther was light . god saw the light , and saw that it was good . god divid the light from the dark . god cal the light day , and the dark he cal night . ther was ev and ther was morn , on day . god said , \" let ther be an expans in the middl of the wat , and let it divid the wat from the wat .\" god mad the expans , and divid the wat which wer und the expans from the wat which wer abov the expans ; and it was so . god cal the expans sky . ther was ev and ther was morn , a second day . god said , \" let the wat und the sky be gath togeth to on plac , and let the dry land appear ;\" and it was so .\n"
     ]
    }
   ],
   "source": [
    "from nltk.stem import LancasterStemmer\n",
    "stemmer = LancasterStemmer()\n",
    "print(\"Orignal Sentence:\",str1)\n",
    "print(\"\\n\")\n",
    "\n",
    "str1 = [stemmer.stem(token) for token in str1.split(\" \")]\n",
    "print(\"Stemmed Sentence:\")\n",
    "print(\" \".join(str1))"
   ]
  },
  {
   "cell_type": "code",
   "execution_count": null,
   "metadata": {},
   "outputs": [],
   "source": []
  }
 ],
 "metadata": {
  "kernelspec": {
   "display_name": "Python 3",
   "language": "python",
   "name": "python3"
  },
  "language_info": {
   "codemirror_mode": {
    "name": "ipython",
    "version": 3
   },
   "file_extension": ".py",
   "mimetype": "text/x-python",
   "name": "python",
   "nbconvert_exporter": "python",
   "pygments_lexer": "ipython3",
   "version": "3.7.6"
  }
 },
 "nbformat": 4,
 "nbformat_minor": 4
}
