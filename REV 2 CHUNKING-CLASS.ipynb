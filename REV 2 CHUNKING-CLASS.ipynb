{
 "cells": [
  {
   "cell_type": "code",
   "execution_count": 1,
   "metadata": {},
   "outputs": [],
   "source": [
    "import nltk"
   ]
  },
  {
   "cell_type": "code",
   "execution_count": 2,
   "metadata": {},
   "outputs": [],
   "source": [
    "semtence=[(\"the\",\"DT\"),(\"little\",\"JJ\"),(\"yellow\",\"JJ\"),(\"dog\",\"NN\"),(\"barked\",\"VBD\"),(\"at\",\"IN\"),(\"the\",\"DT\"),(\"white\",\"JJ\"),(\"dog\",\"NN\")]\n",
    "grammar=\"NP:{<DT>?<JJ>*<NN>}\""
   ]
  },
  {
   "cell_type": "code",
   "execution_count": 3,
   "metadata": {},
   "outputs": [],
   "source": [
    "cp=nltk.RegexpParser(grammar)"
   ]
  },
  {
   "cell_type": "code",
   "execution_count": 4,
   "metadata": {},
   "outputs": [
    {
     "name": "stdout",
     "output_type": "stream",
     "text": [
      "(S\n",
      "  (NP the/DT little/JJ yellow/JJ dog/NN)\n",
      "  barked/VBD\n",
      "  at/IN\n",
      "  (NP the/DT white/JJ dog/NN))\n"
     ]
    }
   ],
   "source": [
    "result=cp.parse(semtence)\n",
    "print(result)"
   ]
  },
  {
   "cell_type": "code",
   "execution_count": 5,
   "metadata": {},
   "outputs": [],
   "source": [
    "text=\"natural language processing is a subfield of linguistics \""
   ]
  },
  {
   "cell_type": "code",
   "execution_count": 6,
   "metadata": {},
   "outputs": [
    {
     "name": "stdout",
     "output_type": "stream",
     "text": [
      "(S\n",
      "  n/RB\n",
      "  (NP a/DT t/NN)\n",
      "  (NP u/JJ r/NN)\n",
      "  (NP a/DT l/NN)\n",
      "   /NNP\n",
      "  l/VBZ\n",
      "  (NP a/DT n/JJ g/NN)\n",
      "  u/IN\n",
      "  (NP a/DT g/NN)\n",
      "  (NP e/NN)\n",
      "   /NNP\n",
      "  (NP p/NN)\n",
      "  (NP r/NN)\n",
      "  o/IN\n",
      "  (NP c/JJ e/NN)\n",
      "  (NP s/JJ s/NN)\n",
      "  (NP i/NN)\n",
      "  n/VBP\n",
      "  (NP g/NN)\n",
      "  (NP  /NN)\n",
      "  (NP i/NN)\n",
      "  s/VBP\n",
      "   /PDT\n",
      "  (NP a/DT  /JJ s/NN)\n",
      "  (NP u/NN)\n",
      "  b/IN\n",
      "  (NP f/NN)\n",
      "  (NP i/NN)\n",
      "  e/VBP\n",
      "  (NP l/NN)\n",
      "  (NP d/NN)\n",
      "   /NNP\n",
      "  o/VBZ\n",
      "  f/JJ\n",
      "   /NNP\n",
      "  (NP l/NN)\n",
      "  (NP i/NN)\n",
      "  n/VBP\n",
      "  (NP g/NN)\n",
      "  (NP u/NN)\n",
      "  (NP i/NN)\n",
      "  s/VBP\n",
      "  (NP t/NN)\n",
      "  (NP i/NN)\n",
      "  c/VBP\n",
      "  (NP s/NN)\n",
      "  (NP  /NN))\n"
     ]
    }
   ],
   "source": [
    "chunks=cp.parse(nltk.pos_tag(text))\n",
    "print(chunks)"
   ]
  },
  {
   "cell_type": "code",
   "execution_count": null,
   "metadata": {},
   "outputs": [],
   "source": [
    "result.draw()"
   ]
  },
  {
   "cell_type": "code",
   "execution_count": null,
   "metadata": {},
   "outputs": [],
   "source": []
  }
 ],
 "metadata": {
  "kernelspec": {
   "display_name": "Python 3",
   "language": "python",
   "name": "python3"
  },
  "language_info": {
   "codemirror_mode": {
    "name": "ipython",
    "version": 3
   },
   "file_extension": ".py",
   "mimetype": "text/x-python",
   "name": "python",
   "nbconvert_exporter": "python",
   "pygments_lexer": "ipython3",
   "version": "3.7.6"
  }
 },
 "nbformat": 4,
 "nbformat_minor": 2
}
