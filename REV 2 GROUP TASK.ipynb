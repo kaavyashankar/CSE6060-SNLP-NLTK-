{
 "cells": [
  {
   "cell_type": "markdown",
   "metadata": {},
   "source": [
    "# GROUP TASK"
   ]
  },
  {
   "cell_type": "markdown",
   "metadata": {},
   "source": [
    "# TASK 1"
   ]
  },
  {
   "cell_type": "code",
   "execution_count": 1,
   "metadata": {},
   "outputs": [],
   "source": [
    "data = 'Four score and seven years ago our fathers brought forth on this continent, a new nation, conceived in Liberty, and dedicated to the proposition that all men are created equal.\\n\\nNow we are engaged in a great civil war, testing whether that nation, or any nation so conceived and so dedicated, can long endure. We are met on a great battle-field of that war. \\nWe have come to dedicate a portion of that field, as a final resting place for those who here gave their lives that that nation might live. \\nIt is altogether fitting and proper that we should do this. But, in a larger sense, we can not dedicate -- we can not consecrate -- we can not hallow -- this ground. The brave men, living and dead, who struggled here, have consecrated it, far above our poor power to add or detract. The world will little note, nor long remember what we say here, but it can never forget what they did here. It is for us the living, rather, to be dedicated here to the unfinished work which they who fought here have thus far so nobly advanced. It is rather for us to be here dedicated to the great task remaining before us -- that from these honored dead we take increased devotion to that cause for which they gave the last full measure of devotion -- that we here highly resolve that these dead shall not have died in vain -- that this nation, under God, shall have a new birth of freedom -- and that government of the people, by the people, for the people, shall not perish from the earth.'"
   ]
  },
  {
   "cell_type": "code",
   "execution_count": 2,
   "metadata": {},
   "outputs": [
    {
     "data": {
      "text/plain": [
       "'Four score and seven years ago our fathers brought forth on this continent, a new nation, conceived in Liberty, and dedicated to the proposition that all men are created equal.\\n\\nNow we are engaged in a great civil war, testing whether that nation, or any nation so conceived and so dedicated, can long endure. We are met on a great battle-field of that war. \\nWe have come to dedicate a portion of that field, as a final resting place for those who here gave their lives that that nation might live. \\nIt is altogether fitting and proper that we should do this. But, in a larger sense, we can not dedicate -- we can not consecrate -- we can not hallow -- this ground. The brave men, living and dead, who struggled here, have consecrated it, far above our poor power to add or detract. The world will little note, nor long remember what we say here, but it can never forget what they did here. It is for us the living, rather, to be dedicated here to the unfinished work which they who fought here have thus far so nobly advanced. It is rather for us to be here dedicated to the great task remaining before us -- that from these honored dead we take increased devotion to that cause for which they gave the last full measure of devotion -- that we here highly resolve that these dead shall not have died in vain -- that this nation, under God, shall have a new birth of freedom -- and that government of the people, by the people, for the people, shall not perish from the earth.'"
      ]
     },
     "execution_count": 2,
     "metadata": {},
     "output_type": "execute_result"
    }
   ],
   "source": [
    "data"
   ]
  },
  {
   "cell_type": "markdown",
   "metadata": {},
   "source": [
    "# TASK 2 - Remove the stop words from the address given"
   ]
  },
  {
   "cell_type": "code",
   "execution_count": 3,
   "metadata": {},
   "outputs": [],
   "source": [
    "import nltk\n",
    "from nltk.corpus import stopwords\n",
    "from nltk.tokenize import word_tokenize\n",
    "\n",
    "stop_words = (stopwords.words('english'))\n",
    "word_tokens = word_tokenize(data)"
   ]
  },
  {
   "cell_type": "code",
   "execution_count": 4,
   "metadata": {},
   "outputs": [],
   "source": [
    "fil_sen =  []\n",
    "\n",
    "for w in word_tokens:\n",
    "    if w not in stop_words:\n",
    "        fil_sen.append(w)"
   ]
  },
  {
   "cell_type": "code",
   "execution_count": 5,
   "metadata": {},
   "outputs": [
    {
     "name": "stdout",
     "output_type": "stream",
     "text": [
      "['Four', 'score', 'seven', 'years', 'ago', 'fathers', 'brought', 'forth', 'continent', ',', 'new', 'nation', ',', 'conceived', 'Liberty', ',', 'dedicated', 'proposition', 'men', 'created', 'equal', '.', 'Now', 'engaged', 'great', 'civil', 'war', ',', 'testing', 'whether', 'nation', ',', 'nation', 'conceived', 'dedicated', ',', 'long', 'endure', '.', 'We', 'met', 'great', 'battle-field', 'war', '.', 'We', 'come', 'dedicate', 'portion', 'field', ',', 'final', 'resting', 'place', 'gave', 'lives', 'nation', 'might', 'live', '.', 'It', 'altogether', 'fitting', 'proper', '.', 'But', ',', 'larger', 'sense', ',', 'dedicate', '--', 'consecrate', '--', 'hallow', '--', 'ground', '.', 'The', 'brave', 'men', ',', 'living', 'dead', ',', 'struggled', ',', 'consecrated', ',', 'far', 'poor', 'power', 'add', 'detract', '.', 'The', 'world', 'little', 'note', ',', 'long', 'remember', 'say', ',', 'never', 'forget', '.', 'It', 'us', 'living', ',', 'rather', ',', 'dedicated', 'unfinished', 'work', 'fought', 'thus', 'far', 'nobly', 'advanced', '.', 'It', 'rather', 'us', 'dedicated', 'great', 'task', 'remaining', 'us', '--', 'honored', 'dead', 'take', 'increased', 'devotion', 'cause', 'gave', 'last', 'full', 'measure', 'devotion', '--', 'highly', 'resolve', 'dead', 'shall', 'died', 'vain', '--', 'nation', ',', 'God', ',', 'shall', 'new', 'birth', 'freedom', '--', 'government', 'people', ',', 'people', ',', 'people', ',', 'shall', 'perish', 'earth', '.']\n"
     ]
    }
   ],
   "source": [
    "print(fil_sen)"
   ]
  },
  {
   "cell_type": "code",
   "execution_count": 6,
   "metadata": {},
   "outputs": [
    {
     "name": "stdout",
     "output_type": "stream",
     "text": [
      "310\n",
      "170\n"
     ]
    }
   ],
   "source": [
    "print(len(word_tokens))\n",
    "print(len(fil_sen))"
   ]
  },
  {
   "cell_type": "markdown",
   "metadata": {},
   "source": [
    "# TASK 3 - Extract and display bigrams"
   ]
  },
  {
   "cell_type": "code",
   "execution_count": 7,
   "metadata": {},
   "outputs": [
    {
     "name": "stdout",
     "output_type": "stream",
     "text": [
      "[('Four', 'score'), ('score', 'and'), ('and', 'seven'), ('seven', 'years'), ('years', 'ago'), ('ago', 'our'), ('our', 'fathers'), ('fathers', 'brought'), ('brought', 'forth'), ('forth', 'on'), ('on', 'this'), ('this', 'continent'), ('continent', ','), (',', 'a'), ('a', 'new'), ('new', 'nation'), ('nation', ','), (',', 'conceived'), ('conceived', 'in'), ('in', 'Liberty'), ('Liberty', ','), (',', 'and'), ('and', 'dedicated'), ('dedicated', 'to'), ('to', 'the'), ('the', 'proposition'), ('proposition', 'that'), ('that', 'all'), ('all', 'men'), ('men', 'are'), ('are', 'created'), ('created', 'equal'), ('equal', '.'), ('.', 'Now'), ('Now', 'we'), ('we', 'are'), ('are', 'engaged'), ('engaged', 'in'), ('in', 'a'), ('a', 'great'), ('great', 'civil'), ('civil', 'war'), ('war', ','), (',', 'testing'), ('testing', 'whether'), ('whether', 'that'), ('that', 'nation'), ('nation', ','), (',', 'or'), ('or', 'any'), ('any', 'nation'), ('nation', 'so'), ('so', 'conceived'), ('conceived', 'and'), ('and', 'so'), ('so', 'dedicated'), ('dedicated', ','), (',', 'can'), ('can', 'long'), ('long', 'endure'), ('endure', '.'), ('.', 'We'), ('We', 'are'), ('are', 'met'), ('met', 'on'), ('on', 'a'), ('a', 'great'), ('great', 'battle-field'), ('battle-field', 'of'), ('of', 'that'), ('that', 'war'), ('war', '.'), ('.', 'We'), ('We', 'have'), ('have', 'come'), ('come', 'to'), ('to', 'dedicate'), ('dedicate', 'a'), ('a', 'portion'), ('portion', 'of'), ('of', 'that'), ('that', 'field'), ('field', ','), (',', 'as'), ('as', 'a'), ('a', 'final'), ('final', 'resting'), ('resting', 'place'), ('place', 'for'), ('for', 'those'), ('those', 'who'), ('who', 'here'), ('here', 'gave'), ('gave', 'their'), ('their', 'lives'), ('lives', 'that'), ('that', 'that'), ('that', 'nation'), ('nation', 'might'), ('might', 'live'), ('live', '.'), ('.', 'It'), ('It', 'is'), ('is', 'altogether'), ('altogether', 'fitting'), ('fitting', 'and'), ('and', 'proper'), ('proper', 'that'), ('that', 'we'), ('we', 'should'), ('should', 'do'), ('do', 'this'), ('this', '.'), ('.', 'But'), ('But', ','), (',', 'in'), ('in', 'a'), ('a', 'larger'), ('larger', 'sense'), ('sense', ','), (',', 'we'), ('we', 'can'), ('can', 'not'), ('not', 'dedicate'), ('dedicate', '--'), ('--', 'we'), ('we', 'can'), ('can', 'not'), ('not', 'consecrate'), ('consecrate', '--'), ('--', 'we'), ('we', 'can'), ('can', 'not'), ('not', 'hallow'), ('hallow', '--'), ('--', 'this'), ('this', 'ground'), ('ground', '.'), ('.', 'The'), ('The', 'brave'), ('brave', 'men'), ('men', ','), (',', 'living'), ('living', 'and'), ('and', 'dead'), ('dead', ','), (',', 'who'), ('who', 'struggled'), ('struggled', 'here'), ('here', ','), (',', 'have'), ('have', 'consecrated'), ('consecrated', 'it'), ('it', ','), (',', 'far'), ('far', 'above'), ('above', 'our'), ('our', 'poor'), ('poor', 'power'), ('power', 'to'), ('to', 'add'), ('add', 'or'), ('or', 'detract'), ('detract', '.'), ('.', 'The'), ('The', 'world'), ('world', 'will'), ('will', 'little'), ('little', 'note'), ('note', ','), (',', 'nor'), ('nor', 'long'), ('long', 'remember'), ('remember', 'what'), ('what', 'we'), ('we', 'say'), ('say', 'here'), ('here', ','), (',', 'but'), ('but', 'it'), ('it', 'can'), ('can', 'never'), ('never', 'forget'), ('forget', 'what'), ('what', 'they'), ('they', 'did'), ('did', 'here'), ('here', '.'), ('.', 'It'), ('It', 'is'), ('is', 'for'), ('for', 'us'), ('us', 'the'), ('the', 'living'), ('living', ','), (',', 'rather'), ('rather', ','), (',', 'to'), ('to', 'be'), ('be', 'dedicated'), ('dedicated', 'here'), ('here', 'to'), ('to', 'the'), ('the', 'unfinished'), ('unfinished', 'work'), ('work', 'which'), ('which', 'they'), ('they', 'who'), ('who', 'fought'), ('fought', 'here'), ('here', 'have'), ('have', 'thus'), ('thus', 'far'), ('far', 'so'), ('so', 'nobly'), ('nobly', 'advanced'), ('advanced', '.'), ('.', 'It'), ('It', 'is'), ('is', 'rather'), ('rather', 'for'), ('for', 'us'), ('us', 'to'), ('to', 'be'), ('be', 'here'), ('here', 'dedicated'), ('dedicated', 'to'), ('to', 'the'), ('the', 'great'), ('great', 'task'), ('task', 'remaining'), ('remaining', 'before'), ('before', 'us'), ('us', '--'), ('--', 'that'), ('that', 'from'), ('from', 'these'), ('these', 'honored'), ('honored', 'dead'), ('dead', 'we'), ('we', 'take'), ('take', 'increased'), ('increased', 'devotion'), ('devotion', 'to'), ('to', 'that'), ('that', 'cause'), ('cause', 'for'), ('for', 'which'), ('which', 'they'), ('they', 'gave'), ('gave', 'the'), ('the', 'last'), ('last', 'full'), ('full', 'measure'), ('measure', 'of'), ('of', 'devotion'), ('devotion', '--'), ('--', 'that'), ('that', 'we'), ('we', 'here'), ('here', 'highly'), ('highly', 'resolve'), ('resolve', 'that'), ('that', 'these'), ('these', 'dead'), ('dead', 'shall'), ('shall', 'not'), ('not', 'have'), ('have', 'died'), ('died', 'in'), ('in', 'vain'), ('vain', '--'), ('--', 'that'), ('that', 'this'), ('this', 'nation'), ('nation', ','), (',', 'under'), ('under', 'God'), ('God', ','), (',', 'shall'), ('shall', 'have'), ('have', 'a'), ('a', 'new'), ('new', 'birth'), ('birth', 'of'), ('of', 'freedom'), ('freedom', '--'), ('--', 'and'), ('and', 'that'), ('that', 'government'), ('government', 'of'), ('of', 'the'), ('the', 'people'), ('people', ','), (',', 'by'), ('by', 'the'), ('the', 'people'), ('people', ','), (',', 'for'), ('for', 'the'), ('the', 'people'), ('people', ','), (',', 'shall'), ('shall', 'not'), ('not', 'perish'), ('perish', 'from'), ('from', 'the'), ('the', 'earth'), ('earth', '.')]\n"
     ]
    }
   ],
   "source": [
    "import nltk\n",
    "bigrm = list(nltk.bigrams(word_tokens))\n",
    "print(bigrm)"
   ]
  },
  {
   "cell_type": "code",
   "execution_count": 8,
   "metadata": {},
   "outputs": [
    {
     "name": "stdout",
     "output_type": "stream",
     "text": [
      "309\n"
     ]
    }
   ],
   "source": [
    "print(len(bigrm))"
   ]
  },
  {
   "cell_type": "markdown",
   "metadata": {},
   "source": [
    "# TASK 4 -From the bigrams,extract collocations"
   ]
  },
  {
   "cell_type": "code",
   "execution_count": 9,
   "metadata": {},
   "outputs": [
    {
     "name": "stdout",
     "output_type": "stream",
     "text": [
      "[(('.', 'It'), ('It', 'is')), (('the', 'people'), ('people', ',')), (('we', 'can'), ('can', 'not')), (('--', 'we'), ('we', 'can')), (('dedicated', 'to'), ('to', 'the'))]\n"
     ]
    }
   ],
   "source": [
    "from nltk.collocations import BigramCollocationFinder\n",
    "from nltk.metrics import BigramAssocMeasures\n",
    "\n",
    "finder = BigramCollocationFinder.from_words(bigrm)\n",
    "bigram_measures = BigramAssocMeasures.likelihood_ratio\n",
    "\n",
    "print(finder.nbest(bigram_measures, 5))"
   ]
  },
  {
   "cell_type": "code",
   "execution_count": 10,
   "metadata": {},
   "outputs": [
    {
     "name": "stdout",
     "output_type": "stream",
     "text": [
      "[(('.', 'It'), ('It', 'is')), (('the', 'people'), ('people', ',')), (('we', 'can'), ('can', 'not')), (('--', 'we'), ('we', 'can')), (('dedicated', 'to'), ('to', 'the')), ((',', 'and'), ('and', 'dedicated')), ((',', 'as'), ('as', 'a')), ((',', 'but'), ('but', 'it')), ((',', 'by'), ('by', 'the')), ((',', 'can'), ('can', 'long')), ((',', 'conceived'), ('conceived', 'in')), ((',', 'far'), ('far', 'above')), ((',', 'for'), ('for', 'the')), ((',', 'have'), ('have', 'consecrated')), ((',', 'living'), ('living', 'and')), ((',', 'nor'), ('nor', 'long')), ((',', 'or'), ('or', 'any')), ((',', 'rather'), ('rather', ',')), ((',', 'testing'), ('testing', 'whether')), ((',', 'under'), ('under', 'God')), ((',', 'who'), ('who', 'struggled')), (('--', 'and'), ('and', 'that')), (('--', 'this'), ('this', 'ground')), (('.', 'But'), ('But', ',')), (('.', 'Now'), ('Now', 'we')), (('But', ','), (',', 'in')), (('Four', 'score'), ('score', 'and')), (('Liberty', ','), (',', 'and')), (('Now', 'we'), ('we', 'are')), (('The', 'brave'), ('brave', 'men')), (('The', 'world'), ('world', 'will')), (('We', 'are'), ('are', 'met')), (('We', 'have'), ('have', 'come')), (('a', 'final'), ('final', 'resting')), (('a', 'larger'), ('larger', 'sense')), (('a', 'portion'), ('portion', 'of')), (('above', 'our'), ('our', 'poor')), (('add', 'or'), ('or', 'detract')), (('ago', 'our'), ('our', 'fathers')), (('all', 'men'), ('men', 'are')), (('altogether', 'fitting'), ('fitting', 'and')), (('and', 'dead'), ('dead', ',')), (('and', 'proper'), ('proper', 'that')), (('and', 'seven'), ('seven', 'years')), (('and', 'so'), ('so', 'dedicated')), (('and', 'that'), ('that', 'government')), (('any', 'nation'), ('nation', 'so')), (('are', 'created'), ('created', 'equal')), (('are', 'engaged'), ('engaged', 'in')), (('are', 'met'), ('met', 'on'))]\n"
     ]
    }
   ],
   "source": [
    "print(finder.nbest(bigram_measures, 50))"
   ]
  },
  {
   "cell_type": "code",
   "execution_count": null,
   "metadata": {},
   "outputs": [],
   "source": []
  },
  {
   "cell_type": "code",
   "execution_count": null,
   "metadata": {},
   "outputs": [],
   "source": []
  },
  {
   "cell_type": "code",
   "execution_count": null,
   "metadata": {},
   "outputs": [],
   "source": []
  }
 ],
 "metadata": {
  "kernelspec": {
   "display_name": "Python 3",
   "language": "python",
   "name": "python3"
  },
  "language_info": {
   "codemirror_mode": {
    "name": "ipython",
    "version": 3
   },
   "file_extension": ".py",
   "mimetype": "text/x-python",
   "name": "python",
   "nbconvert_exporter": "python",
   "pygments_lexer": "ipython3",
   "version": "3.7.6"
  }
 },
 "nbformat": 4,
 "nbformat_minor": 2
}
