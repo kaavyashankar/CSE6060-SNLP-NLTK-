{
 "cells": [
  {
   "cell_type": "markdown",
   "metadata": {},
   "source": [
    "# INDICNLP"
   ]
  },
  {
   "cell_type": "markdown",
   "metadata": {},
   "source": [
    " Indic NLP Library is useful for performing advanced text processing tasks for Indian languages. "
   ]
  },
  {
   "cell_type": "code",
   "execution_count": null,
   "metadata": {},
   "outputs": [],
   "source": [
    "import sys\n",
    "from indicnlp import common\n",
    "\n",
    "# The path to the local git repo for Indic NLP library\n",
    "INDIC_NLP_LIB_HOME=r\"indic_nlp_library\"\n",
    "\n",
    "# The path to the local git repo for Indic NLP Resources\n",
    "INDIC_NLP_RESOURCES=r\"indic_nlp_resources\"\n",
    "\n",
    "# Add library to Python path\n",
    "sys.path.append(r'{}\\src'.format(INDIC_NLP_LIB_HOME))\n",
    "\n",
    "# Set environment variable for resources folder\n",
    "common.set_resources_path(INDIC_NLP_RESOURCES"
   ]
  },
  {
   "cell_type": "code",
   "execution_count": 2,
   "metadata": {},
   "outputs": [],
   "source": [
    "from indicnlp.tokenize import sentence_tokenize"
   ]
  },
  {
   "cell_type": "code",
   "execution_count": 3,
   "metadata": {},
   "outputs": [],
   "source": [
    "indic_string=\"நம் செயலின் வெற்றியை தீர்மானிக்கும் திறன் நாம் வைக்கும் நம்பிக்கை மீது தான் உள்ளது. இந்த உண்மையைப் புரிந்துக்கொள்ளுதல் மிகமிக அவசியம். 100 ஆற்றல் மிக்க இளைஞர்களைக் கொடுங்கள். இந்தியாவை மாற்றிக் காட்டுகின்றேன் என்றுவிவேகானந்தர் சவால் விட்டுக் கூறினார் என்றால் என்ன தெரியுமா ? 2 விஷயங்கள். 1 இளைஞர்கள் மீது அவருக்கு இருந்தநம்பிக்கை. 2 இந்தியாவை மாற்ற முடியும் என்ற நம்பிக்கை. நாட்டிற்கும் சரி வீட்டிற்கும் சரி, நம்பிக்கை மிக மிக அவசியம்.\""
   ]
  },
  {
   "cell_type": "markdown",
   "metadata": {},
   "source": [
    "# SENTENCE SPLITTER"
   ]
  },
  {
   "cell_type": "code",
   "execution_count": 4,
   "metadata": {},
   "outputs": [
    {
     "name": "stdout",
     "output_type": "stream",
     "text": [
      "நம் செயலின் வெற்றியை தீர்மானிக்கும் திறன் நாம் வைக்கும் நம்பிக்கை மீது தான் உள்ளது.\n",
      "இந்த உண்மையைப் புரிந்துக்கொள்ளுதல் மிகமிக அவசியம்.\n",
      "100 ஆற்றல் மிக்க இளைஞர்களைக் கொடுங்கள்.\n",
      "இந்தியாவை மாற்றிக் காட்டுகின்றேன் என்றுவிவேகானந்தர் சவால் விட்டுக் கூறினார் என்றால் என்ன தெரியுமா ?\n",
      "2 விஷயங்கள்.\n",
      "1 இளைஞர்கள் மீது அவருக்கு இருந்தநம்பிக்கை.\n",
      "2 இந்தியாவை மாற்ற முடியும் என்ற நம்பிக்கை.\n",
      "நாட்டிற்கும் சரி வீட்டிற்கும் சரி, நம்பிக்கை மிக மிக அவசியம்\n"
     ]
    }
   ],
   "source": [
    "from indicnlp.tokenize import sentence_tokenize\n",
    "\n",
    "indic_string=\"\"\"நம் செயலின் வெற்றியை தீர்மானிக்கும் திறன் நாம் வைக்கும் நம்பிக்கை மீது தான் உள்ளது. இந்த உண்மையைப் புரிந்துக்கொள்ளுதல் மிகமிக அவசியம். 100 ஆற்றல் மிக்க இளைஞர்களைக் கொடுங்கள். இந்தியாவை மாற்றிக் காட்டுகின்றேன் என்றுவிவேகானந்தர் சவால் விட்டுக் கூறினார் என்றால் என்ன தெரியுமா ? 2 விஷயங்கள். 1 இளைஞர்கள் மீது அவருக்கு இருந்தநம்பிக்கை. 2 இந்தியாவை மாற்ற முடியும் என்ற நம்பிக்கை. நாட்டிற்கும் சரி வீட்டிற்கும் சரி, நம்பிக்கை மிக மிக அவசியம்\"\"\"\n",
    "sentences=sentence_tokenize.sentence_split(indic_string, lang='tam')\n",
    "for t in sentences:\n",
    "    print(t)"
   ]
  },
  {
   "cell_type": "markdown",
   "metadata": {},
   "source": [
    "# TOKENIZATION"
   ]
  },
  {
   "cell_type": "code",
   "execution_count": 5,
   "metadata": {},
   "outputs": [
    {
     "name": "stdout",
     "output_type": "stream",
     "text": [
      "Input String: நம் செயலின் வெற்றியை தீர்மானிக்கும் திறன் நாம் வைக்கும் நம்பிக்கை மீது தான் உள்ளத.\n",
      "Tokens: \n",
      "நம்\n",
      "செயலின்\n",
      "வெற்றியை\n",
      "தீர்மானிக்கும்\n",
      "திறன்\n",
      "நாம்\n",
      "வைக்கும்\n",
      "நம்பிக்கை\n",
      "மீது\n",
      "தான்\n",
      "உள்ளத\n",
      ".\n"
     ]
    }
   ],
   "source": [
    "from indicnlp.tokenize import indic_tokenize  \n",
    "\n",
    "indic_string='நம் செயலின் வெற்றியை தீர்மானிக்கும் திறன் நாம் வைக்கும் நம்பிக்கை மீது தான் உள்ளத.'\n",
    "\n",
    "print('Input String: {}'.format(indic_string))\n",
    "print('Tokens: ')\n",
    "for t in indic_tokenize.trivial_tokenize(indic_string): \n",
    "    print(t)"
   ]
  },
  {
   "cell_type": "markdown",
   "metadata": {},
   "source": [
    "# SCRIPT CONVERSION"
   ]
  },
  {
   "cell_type": "code",
   "execution_count": 7,
   "metadata": {},
   "outputs": [
    {
     "name": "stdout",
     "output_type": "stream",
     "text": [
      "नम् चॆयलिऩ् वॆऱ्ऱियै तीर्माऩिक्कुम् तिऱऩ् नाम् वैक्कुम् नम्पिक्कै मीतु ताऩ् उळ्ळतु.\n"
     ]
    }
   ],
   "source": [
    "from indicnlp.transliterate.unicode_transliterate import UnicodeIndicTransliterator\n",
    "input_text='நம் செயலின் வெற்றியை தீர்மானிக்கும் திறன் நாம் வைக்கும் நம்பிக்கை மீது தான் உள்ளது.'\n",
    "print(UnicodeIndicTransliterator.transliterate(input_text,\"ta\",\"hi\"))"
   ]
  },
  {
   "cell_type": "markdown",
   "metadata": {},
   "source": [
    "# LEXICAL SIMILARITY"
   ]
  },
  {
   "cell_type": "code",
   "execution_count": 8,
   "metadata": {},
   "outputs": [],
   "source": [
    "from indicnlp.script import  indic_scripts as isc\n",
    "from indicnlp.transliterate.unicode_transliterate import UnicodeIndicTransliterator"
   ]
  },
  {
   "cell_type": "code",
   "execution_count": 9,
   "metadata": {},
   "outputs": [
    {
     "name": "stdout",
     "output_type": "stream",
     "text": [
      "ta string: இந்தியாவை மாற்றிக் காட்டுகின்றேன் என்றுவிவேகானந்தர் சவால் விட்டுக் கூறினார்.\n",
      "hi string: பிசலே திநோஂ ஹம லோகோஂ நே கஈ உத்ஸவ மநாயே. கல, ஹிந்துஸ்தாந பர மேஂ ஷ்ரீ க௃ஷ்ண ஜந்ம-மஹோத்ஸவ மநாயா கயாયો.\n",
      "LCSR: 0.24242424242424243\n"
     ]
    }
   ],
   "source": [
    "lang1_str='இந்தியாவை மாற்றிக் காட்டுகின்றேன் என்றுவிவேகானந்தர் சவால் விட்டுக் கூறினார்.'\n",
    "lang2_str='पिछले दिनों हम लोगों ने कई उत्सव मनाये. कल, हिन्दुस्तान भर में श्री कृष्ण जन्म-महोत्सव मनाया गयाયો.'\n",
    "lang1='ta'\n",
    "lang2='hi'\n",
    "\n",
    "lcsr, len1, len2 = isc.lcsr_indic(lang1_str,lang2_str,lang1,lang2)\n",
    "print('{} string: {}'.format(lang1, lang1_str))\n",
    "print('{} string: {}'.format(lang2, UnicodeIndicTransliterator.transliterate(lang2_str,lang2,lang1)))\n",
    "print('LCSR: {}'.format(lcsr))\n"
   ]
  },
  {
   "cell_type": "markdown",
   "metadata": {},
   "source": [
    "# PHONETICS OF A CHARACTER"
   ]
  },
  {
   "cell_type": "code",
   "execution_count": 13,
   "metadata": {},
   "outputs": [
    {
     "name": "stdout",
     "output_type": "stream",
     "text": [
      "Is vowel?:  False\n",
      "Is consonant?:  True\n",
      "Is velar?:  True\n",
      "Is palatal?:  False\n",
      "Is aspirated?:  False\n",
      "Is unvoiced?:  True\n",
      "Is nasal?:  False\n"
     ]
    }
   ],
   "source": [
    "from indicnlp.langinfo import *\n",
    "\n",
    "# Input character \n",
    "c='க'\n",
    "# Language is tamil or 'ta'\n",
    "lang='ta'\n",
    "\n",
    "print('Is vowel?:  {}'.format(is_vowel(c,lang)))\n",
    "print('Is consonant?:  {}'.format(is_consonant(c,lang)))\n",
    "print('Is velar?:  {}'.format(is_velar(c,lang)))\n",
    "print('Is palatal?:  {}'.format(is_palatal(c,lang)))\n",
    "print('Is aspirated?:  {}'.format(is_aspirated(c,lang)))\n",
    "print('Is unvoiced?:  {}'.format(is_unvoiced(c,lang)))\n",
    "print('Is nasal?:  {}'.format(is_nasal(c,lang)))"
   ]
  },
  {
   "cell_type": "markdown",
   "metadata": {},
   "source": [
    "Phonetics of a character describe the speech property of that character (like how will it sound, how much tongue should be rolled to pronounce it, etc.)\n",
    "\n",
    "velar constriction made by back of tonguw against soft palate"
   ]
  },
  {
   "cell_type": "code",
   "execution_count": null,
   "metadata": {},
   "outputs": [],
   "source": []
  }
 ],
 "metadata": {
  "kernelspec": {
   "display_name": "Python 3",
   "language": "python",
   "name": "python3"
  },
  "language_info": {
   "codemirror_mode": {
    "name": "ipython",
    "version": 3
   },
   "file_extension": ".py",
   "mimetype": "text/x-python",
   "name": "python",
   "nbconvert_exporter": "python",
   "pygments_lexer": "ipython3",
   "version": "3.7.6"
  }
 },
 "nbformat": 4,
 "nbformat_minor": 4
}
